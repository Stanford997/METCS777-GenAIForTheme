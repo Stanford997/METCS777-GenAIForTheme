{
 "cells": [
  {
   "cell_type": "code",
   "execution_count": 1,
   "id": "3fc6f2d6",
   "metadata": {},
   "outputs": [
    {
     "name": "stdout",
     "output_type": "stream",
     "text": [
      "From https://github.com/mytnguyen26/METCS777-GenAIForTheme\r\n",
      " * branch            dev        -> FETCH_HEAD\r\n",
      "Already up to date.\r\n"
     ]
    }
   ],
   "source": [
    "!git pull origin dev"
   ]
  },
  {
   "cell_type": "code",
   "execution_count": 2,
   "id": "fae0f36b",
   "metadata": {},
   "outputs": [
    {
     "name": "stdout",
     "output_type": "stream",
     "text": [
      "Switched to a new branch 'test-sagemaker'\r\n"
     ]
    }
   ],
   "source": [
    "!git checkout -b test-sagemaker"
   ]
  },
  {
   "cell_type": "code",
   "execution_count": 3,
   "id": "97fb4355",
   "metadata": {},
   "outputs": [
    {
     "name": "stdout",
     "output_type": "stream",
     "text": [
      "README.md  Test.ipynb\r\n"
     ]
    }
   ],
   "source": [
    "!ls"
   ]
  },
  {
   "cell_type": "code",
   "execution_count": 4,
   "id": "0d4e11f6",
   "metadata": {},
   "outputs": [
    {
     "name": "stdout",
     "output_type": "stream",
     "text": [
      "Username for 'https://github.com/mytnguyen26/METCS777-GenAIForTheme': ^C\n"
     ]
    }
   ],
   "source": [
    "!git push origin test-sagemaker"
   ]
  },
  {
   "cell_type": "code",
   "execution_count": null,
   "id": "ffa23089",
   "metadata": {},
   "outputs": [],
   "source": []
  },
  {
   "cell_type": "code",
   "execution_count": 5,
   "id": "5ea4c9ec",
   "metadata": {},
   "outputs": [
    {
     "ename": "NameError",
     "evalue": "name 'mytnguyen26' is not defined",
     "output_type": "error",
     "traceback": [
      "\u001b[0;31m---------------------------------------------------------------------------\u001b[0m",
      "\u001b[0;31mNameError\u001b[0m                                 Traceback (most recent call last)",
      "Cell \u001b[0;32mIn[5], line 1\u001b[0m\n\u001b[0;32m----> 1\u001b[0m \u001b[43mmytnguyen26\u001b[49m\u001b[38;5;129m@gmail\u001b[39m\u001b[38;5;241m.\u001b[39mcom\n",
      "\u001b[0;31mNameError\u001b[0m: name 'mytnguyen26' is not defined"
     ]
    }
   ],
   "source": []
  },
  {
   "cell_type": "code",
   "execution_count": null,
   "id": "8c508e72",
   "metadata": {},
   "outputs": [],
   "source": []
  }
 ],
 "metadata": {
  "kernelspec": {
   "display_name": "conda_pytorch_p310",
   "language": "python",
   "name": "conda_pytorch_p310"
  },
  "language_info": {
   "codemirror_mode": {
    "name": "ipython",
    "version": 3
   },
   "file_extension": ".py",
   "mimetype": "text/x-python",
   "name": "python",
   "nbconvert_exporter": "python",
   "pygments_lexer": "ipython3",
   "version": "3.10.13"
  }
 },
 "nbformat": 4,
 "nbformat_minor": 5
}
